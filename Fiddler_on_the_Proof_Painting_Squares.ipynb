{
  "nbformat": 4,
  "nbformat_minor": 0,
  "metadata": {
    "colab": {
      "provenance": [],
      "authorship_tag": "ABX9TyOpE6AYxDFiHDAi117wZRxe",
      "include_colab_link": true
    },
    "kernelspec": {
      "name": "python3",
      "display_name": "Python 3"
    },
    "language_info": {
      "name": "python"
    }
  },
  "cells": [
    {
      "cell_type": "markdown",
      "metadata": {
        "id": "view-in-github",
        "colab_type": "text"
      },
      "source": [
        "<a href=\"https://colab.research.google.com/github/ahaque12/fiddler-painting-squares/blob/main/Fiddler_on_the_Proof_Painting_Squares.ipynb\" target=\"_parent\"><img src=\"https://colab.research.google.com/assets/colab-badge.svg\" alt=\"Open In Colab\"/></a>"
      ]
    },
    {
      "cell_type": "markdown",
      "source": [
        "# Fiddler on the Proof - Painting Squares\n",
        "https://thefiddler.substack.com/p/can-you-paint-by-number\n",
        "\n",
        "I’m completing a paint-by-number painting, although this one is a little different from any that I’ve seen before. It’s an infinitely long strip of canvas that is 1 cm wide. It’s broken up into adjacent 1 cm-by-1 cm squares, each of which is numbered zero or one, each with a 50 percent chance. The squares are all numbered independently of each other. Every square with a zero I color red, while every square with a one I color blue.\n",
        "\n",
        "Once I’m done painting, there will be many “clusters” of contiguous red and blue squares. For example, consider the finite strip of canvas below. It contains 10 total squares and seven clusters, which means the average size of a cluster here is approximately 1.43 squares.\n",
        "\n",
        "![img](https://substackcdn.com/image/fetch/f_auto,q_auto:good,fl_progressive:steep/https%3A%2F%2Fsubstack-post-media.s3.amazonaws.com%2Fpublic%2Fimages%2F542c8374-820f-4e04-b1ec-0b3d63b9a10d_2016x272.png)\n",
        "\n",
        "Once I’m done painting, what will be the average size of each red or blue cluster?\n",
        "\n",
        "## Extra Credit\n",
        "Once again, I’m painting an infinitely long strip of canvas, broken up into adjacent 1 cm-by-1 cm squares. Squares are randomly and independently numbered 0 or 1 as before. But this time, the strip itself is 2 cm wide.\n",
        "\n",
        "Squares are considered adjacent if they share a common edge. So squares can be horizontally or vertically adjacent, but not diagonally adjacent.\n",
        "\n",
        "![img2](https://substackcdn.com/image/fetch/w_1456,c_limit,f_webp,q_auto:good,fl_progressive:steep/https%3A%2F%2Fsubstack-post-media.s3.amazonaws.com%2Fpublic%2Fimages%2F079ab505-66c7-427b-ad6a-a2cf6a1794a6_1600x384.png)\n",
        "\n",
        "Once I’m done painting, there will again be many “clusters” of contiguous red and blue squares. The example below contains 20 total squares and nine clusters, which means the average size of a cluster here is approximately 2.22 squares."
      ],
      "metadata": {
        "id": "MBYfJwgJ1RoI"
      }
    },
    {
      "cell_type": "code",
      "source": [
        "import random\n",
        "from tqdm import tqdm\n",
        "import numpy as np"
      ],
      "metadata": {
        "id": "0KeAplMI2GD7"
      },
      "execution_count": 2,
      "outputs": []
    },
    {
      "cell_type": "code",
      "execution_count": 3,
      "metadata": {
        "id": "Aj-I8Guu1QiL"
      },
      "outputs": [],
      "source": [
        "def gen_painting():\n",
        "  \"\"\"Fiddler question\n",
        "\n",
        "  Returns\n",
        "  -------\n",
        "  n: int\n",
        "    Number of squares\n",
        "\n",
        "  clusters: int\n",
        "    Number of clusters\n",
        "\n",
        "  cluster_size: float\n",
        "    Average cluster size (n / clusters)\n",
        "  \"\"\"\n",
        "  n = 1\n",
        "  clusters = 1\n",
        "  end = 0\n",
        "\n",
        "  while True:\n",
        "    new_end = 0 if random.random() < .5 else 1\n",
        "    change = 0 if new_end == end else 1\n",
        "    end = new_end\n",
        "    n += 1\n",
        "    clusters += change\n",
        "    yield n, clusters, n / clusters\n"
      ]
    },
    {
      "cell_type": "code",
      "source": [
        "cg = gen_painting()\n",
        "next(cg)"
      ],
      "metadata": {
        "colab": {
          "base_uri": "https://localhost:8080/"
        },
        "id": "WSh9sgut2IzC",
        "outputId": "1e5fcdc1-5430-42d1-adde-48b184c12e1b"
      },
      "execution_count": 4,
      "outputs": [
        {
          "output_type": "execute_result",
          "data": {
            "text/plain": [
              "(2, 1, 2.0)"
            ]
          },
          "metadata": {},
          "execution_count": 4
        }
      ]
    },
    {
      "cell_type": "code",
      "source": [
        "for i in tqdm(range(10000000)):\n",
        "  next(cg)"
      ],
      "metadata": {
        "colab": {
          "base_uri": "https://localhost:8080/"
        },
        "id": "My8t1BtD3TfH",
        "outputId": "a361aaf6-0693-479a-f5c7-e5dfc1e2872c"
      },
      "execution_count": 5,
      "outputs": [
        {
          "output_type": "stream",
          "name": "stderr",
          "text": [
            "100%|██████████| 10000000/10000000 [00:17<00:00, 582512.85it/s]\n"
          ]
        }
      ]
    },
    {
      "cell_type": "code",
      "source": [
        "next(cg)"
      ],
      "metadata": {
        "colab": {
          "base_uri": "https://localhost:8080/"
        },
        "id": "eIlehvA23kBP",
        "outputId": "ed729430-8ab2-42e5-bfa8-099c2d5ca5ba"
      },
      "execution_count": 6,
      "outputs": [
        {
          "output_type": "execute_result",
          "data": {
            "text/plain": [
              "(10000003, 5002176, 1.9991305783722924)"
            ]
          },
          "metadata": {},
          "execution_count": 6
        }
      ]
    },
    {
      "cell_type": "code",
      "source": [
        "def gen_painting_2():\n",
        "  \"\"\"Extra credit\n",
        "\n",
        "  Returns\n",
        "  -------\n",
        "  n: int\n",
        "    Number of columns\n",
        "\n",
        "  clusters: int\n",
        "    Number of clusters\n",
        "\n",
        "  cluster_size: float\n",
        "    Average cluster size (n / clusters)\n",
        "\n",
        "  end: np.array\n",
        "    Most recent column\n",
        "  \"\"\"\n",
        "  n = 0\n",
        "  clusters = 0\n",
        "  new_end = np.array([0, 0])\n",
        "  end = np.array([0, 0])\n",
        "\n",
        "  while True:\n",
        "    new_end[0] = 0 if random.random() < .5 else 1\n",
        "    new_end[1] = 0 if random.random() < .5 else 1\n",
        "    if n==0:\n",
        "      clusters = 1 if new_end[0] == new_end[1] else 2\n",
        "      n += 1\n",
        "      end[0] = new_end[0]\n",
        "      end[1] = new_end[1]\n",
        "      yield n, clusters, 2*n / clusters, new_end\n",
        "      continue\n",
        "    else:\n",
        "      if (end[0] == new_end[0]) and (end[1] == new_end[1]):\n",
        "        ## same\n",
        "        change = 0\n",
        "      elif (end[0] != end[1]) and (new_end[0] == new_end[1]):\n",
        "        ## 0,1 to 1,1 or similar\n",
        "        change = 0\n",
        "      elif (end[0] != new_end[0]) and (end[1] != new_end[1]) and (new_end[0] == new_end[1]):\n",
        "        ## 0,0 to 1,1 or vice versa\n",
        "        change = 1\n",
        "      elif (end[0] != new_end[0]) and (end[1] != new_end[1]) and (new_end[0] != new_end[1]):\n",
        "        # 0, 1 to 1, 0\n",
        "        change = 2\n",
        "      else:\n",
        "        change = 1\n",
        "    end[0] = new_end[0]\n",
        "    end[1] = new_end[1]\n",
        "    n += 1\n",
        "    clusters += change\n",
        "    yield n, clusters, 2*n / clusters, end"
      ],
      "metadata": {
        "id": "ensW0CqE3k8I"
      },
      "execution_count": 7,
      "outputs": []
    },
    {
      "cell_type": "code",
      "source": [
        "cg = gen_painting_2()\n",
        "for i in range(10):\n",
        "  print(next(cg))"
      ],
      "metadata": {
        "colab": {
          "base_uri": "https://localhost:8080/"
        },
        "id": "67hfOMpqs2pl",
        "outputId": "19c11920-3615-4c10-ef1b-0aa35875bda9"
      },
      "execution_count": 8,
      "outputs": [
        {
          "output_type": "stream",
          "name": "stdout",
          "text": [
            "(1, 2, 1.0, array([0, 1]))\n",
            "(2, 4, 1.0, array([1, 0]))\n",
            "(3, 4, 1.5, array([0, 0]))\n",
            "(4, 5, 1.6, array([1, 0]))\n",
            "(5, 5, 2.0, array([1, 0]))\n",
            "(6, 5, 2.4, array([1, 0]))\n",
            "(7, 5, 2.8, array([1, 1]))\n",
            "(8, 5, 3.2, array([1, 1]))\n",
            "(9, 5, 3.6, array([1, 1]))\n",
            "(10, 5, 4.0, array([1, 1]))\n"
          ]
        }
      ]
    },
    {
      "cell_type": "code",
      "source": [
        "for i in tqdm(range(10000000)):\n",
        "  next(cg)\n",
        "\n",
        "next(cg)"
      ],
      "metadata": {
        "colab": {
          "base_uri": "https://localhost:8080/"
        },
        "id": "-pok3lGhs6RI",
        "outputId": "562813a6-be0b-4164-8fcd-f49fffbb74a2"
      },
      "execution_count": 11,
      "outputs": [
        {
          "output_type": "stream",
          "name": "stderr",
          "text": [
            "100%|██████████| 10000000/10000000 [00:31<00:00, 316131.71it/s]\n"
          ]
        },
        {
          "output_type": "execute_result",
          "data": {
            "text/plain": [
              "(30000013, 18749358, 3.2001109584658844, array([0, 1]))"
            ]
          },
          "metadata": {},
          "execution_count": 11
        }
      ]
    }
  ]
}